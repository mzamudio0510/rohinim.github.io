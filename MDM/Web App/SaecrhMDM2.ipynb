{
 "cells": [
  {
   "cell_type": "code",
   "execution_count": 1,
   "metadata": {},
   "outputs": [
    {
     "name": "stderr",
     "output_type": "stream",
     "text": [
      "c:\\users\\80175484\\appdata\\local\\programs\\python\\python37\\lib\\site-packages\\flask_sqlalchemy\\__init__.py:794: FSADeprecationWarning: SQLALCHEMY_TRACK_MODIFICATIONS adds significant overhead and will be disabled by default in the future.  Set it to True or False to suppress this warning.\n",
      "  'SQLALCHEMY_TRACK_MODIFICATIONS adds significant overhead and '\n"
     ]
    }
   ],
   "source": [
    "from flask import Flask,render_template,request,redirect\n",
    "from flask_sqlalchemy import SQLAlchemy\n",
    "import sqlalchemy\n",
    "from sqlalchemy.ext.automap import automap_base\n",
    "from sqlalchemy.orm import Session\n",
    "from sqlalchemy import create_engine, func,text\n",
    "from sqlalchemy import Column, Integer, String, Float\n",
    "from sqlalchemy.sql import update, table, column, select, text\n",
    "import urllib\n",
    "\n",
    "app = Flask(__name__)\n",
    "\n",
    "params = urllib.parse.quote_plus(\"DRIVER={SQL Server Native Client 11.0};\"\n",
    "                                 \"SERVER=PEPWDS01340\\SQLITGECMETA1T, 60108;\"\n",
    "                                 \"DATABASE=MDM;\"\n",
    "                                 \"Trusted_Connection=yes\")\n",
    "engine = create_engine(\"mssql+pyodbc:///?odbc_connect={}\".format(params))\n",
    "session = Session(engine)\n",
    "app.config[\"SQLALCHEMY_DATABASE_URI\"] =\"mssql+pyodbc:///?odbc_connect=%s\" % params\n",
    "app.config[\"SQLALCHEMY_TRACK_MODIFICATION\"] = False\n",
    "db = SQLAlchemy(app)\n",
    "db.Model.metadata.reflect(db.engine)\n",
    "con=engine.connect()\n",
    "\n",
    "Base = automap_base()\n",
    "Base.prepare(engine, reflect=True)\n",
    "session = Session(engine)\n",
    "mdmasin=Base.classes.MDM_ASIN"
   ]
  },
  {
   "cell_type": "code",
   "execution_count": null,
   "metadata": {},
   "outputs": [],
   "source": [
    "stmt=text(\"\"\"update MDM_ASIN set ASIN_Name=\"\"\")"
   ]
  }
 ],
 "metadata": {
  "kernelspec": {
   "display_name": "Python 3",
   "language": "python",
   "name": "python3"
  },
  "language_info": {
   "codemirror_mode": {
    "name": "ipython",
    "version": 3
   },
   "file_extension": ".py",
   "mimetype": "text/x-python",
   "name": "python",
   "nbconvert_exporter": "python",
   "pygments_lexer": "ipython3",
   "version": "3.7.3"
  }
 },
 "nbformat": 4,
 "nbformat_minor": 2
}
