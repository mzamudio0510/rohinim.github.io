{
 "cells": [
  {
   "cell_type": "code",
   "execution_count": 1,
   "metadata": {},
   "outputs": [],
   "source": [
    "import sqlalchemy\n",
    "from sqlalchemy.ext.automap import automap_base\n",
    "from sqlalchemy.orm import Session\n",
    "from sqlalchemy import create_engine, func\n",
    "import urllib\n",
    "import pandas as pd"
   ]
  },
  {
   "cell_type": "code",
   "execution_count": 2,
   "metadata": {},
   "outputs": [],
   "source": [
    "params = urllib.parse.quote_plus(\"DRIVER={SQL Server Native Client 11.0};\"\n",
    "                                 \"SERVER=PEPWDS01340\\SQLITGECMETA1T, 60108;\"\n",
    "                                 \"DATABASE=MDM;\"\n",
    "                                 \"Trusted_Connection=yes\")\n",
    "\n",
    "engine = create_engine(\"mssql+pyodbc:///?odbc_connect={}\".format(params))"
   ]
  },
  {
   "cell_type": "code",
   "execution_count": 3,
   "metadata": {},
   "outputs": [],
   "source": [
    "Base = automap_base()\n",
    "# reflect the tables\n",
    "Base.prepare(engine, reflect=True)"
   ]
  },
  {
   "cell_type": "code",
   "execution_count": 4,
   "metadata": {
    "scrolled": true
   },
   "outputs": [
    {
     "data": {
      "text/plain": [
       "['MDM_ASIN',\n",
       " 'MDM_UPC',\n",
       " 'TEST1_MDM_AmazonHierarchy',\n",
       " 'TEST1_MDM_IRICategory',\n",
       " 'TEST1_MDM_PepsiHierarchy',\n",
       " 'TEST1_MDM_PRODUCT_LINK']"
      ]
     },
     "execution_count": 4,
     "metadata": {},
     "output_type": "execute_result"
    }
   ],
   "source": [
    "Base.classes.keys()"
   ]
  },
  {
   "cell_type": "code",
   "execution_count": 32,
   "metadata": {},
   "outputs": [],
   "source": [
    "MDM_ASIN=Base.classes.MDM_ASIN"
   ]
  },
  {
   "cell_type": "code",
   "execution_count": 16,
   "metadata": {},
   "outputs": [],
   "source": [
    "session = Session(engine)"
   ]
  },
  {
   "cell_type": "code",
   "execution_count": 17,
   "metadata": {},
   "outputs": [],
   "source": [
    "q1=\"\"\"select * from MDM_ASIN\"\"\""
   ]
  },
  {
   "cell_type": "code",
   "execution_count": 18,
   "metadata": {},
   "outputs": [
    {
     "data": {
      "text/plain": [
       "'select * from MDM_ASIN'"
      ]
     },
     "execution_count": 18,
     "metadata": {},
     "output_type": "execute_result"
    }
   ],
   "source": [
    "q1"
   ]
  },
  {
   "cell_type": "code",
   "execution_count": 19,
   "metadata": {},
   "outputs": [
    {
     "name": "stdout",
     "output_type": "stream",
     "text": [
      "(-1, '<UnAssigned>', '<UnAssigned>', datetime.datetime(2019, 4, 22, 19, 7, 22, 920000), datetime.datetime(9999, 12, 31, 23, 59, 59, 990000))\n",
      "(1, 'B0005YXZMQ', 'Aunt Jemima Pancake Syrup Lite, 24 oz', datetime.datetime(2019, 4, 22, 19, 7, 22, 920000), datetime.datetime(9999, 12, 31, 23, 59, 59, 990000))\n",
      "(2, 'B00061ES1K', 'Starbucks Doubleshot Espresso and Cream, 6.5 oz', datetime.datetime(2019, 4, 22, 19, 7, 22, 920000), datetime.datetime(9999, 12, 31, 23, 59, 59, 990000))\n",
      "(3, 'B00099E93Q', 'Quaker Granola Oats, Honey, Almonds & Raisins, 100% Natural, 28 oz', datetime.datetime(2019, 4, 22, 19, 7, 22, 920000), datetime.datetime(9999, 12, 31, 23, 59, 59, 990000))\n",
      "(4, 'B00099XLXU', 'Quaker Oats Quick 1-Minute Oatmeal, Breakfast Cereal, 18oz Canister', datetime.datetime(2019, 4, 22, 19, 7, 22, 920000), datetime.datetime(9999, 12, 31, 23, 59, 59, 990000))\n",
      "(5, 'B00099XM0M', 'Quaker Chewy Dipps Granola Bars, Chocolate Chip, 6 ct - 1.09 oz each', datetime.datetime(2019, 4, 22, 19, 7, 22, 920000), datetime.datetime(9999, 12, 31, 23, 59, 59, 990000))\n",
      "(6, 'B000PL0YEG', 'Pasta Roni Fettuccine Alfredo, 4.7 oz', datetime.datetime(2019, 4, 22, 19, 7, 22, 920000), datetime.datetime(9999, 12, 31, 23, 59, 59, 990000))\n",
      "(7, 'B000PL0YG4', 'Pasta Roni Angel Hair Pasta with Herbs, 4.8 oz', datetime.datetime(2019, 4, 22, 19, 7, 22, 920000), datetime.datetime(9999, 12, 31, 23, 59, 59, 990000))\n",
      "(8, 'B000PL2VTW', 'Rice A Roni, Herb & Butter Flavor, Rice Mix, 7.2 oz', datetime.datetime(2019, 4, 22, 19, 7, 22, 920000), datetime.datetime(9999, 12, 31, 23, 59, 59, 990000))\n",
      "(9, 'B000PL2VW4', 'Pasta Roni, Parmesan Cheese Flavor, 5.1 Oz', datetime.datetime(2019, 4, 22, 19, 7, 22, 920000), datetime.datetime(9999, 12, 31, 23, 59, 59, 990000))\n"
     ]
    }
   ],
   "source": [
    "res=session.execute(\"select top 10 * from MDM_ASIN\")\n",
    "for r in res:\n",
    "    print(r) "
   ]
  },
  {
   "cell_type": "code",
   "execution_count": 22,
   "metadata": {},
   "outputs": [
    {
     "data": {
      "text/html": [
       "<div>\n",
       "<style scoped>\n",
       "    .dataframe tbody tr th:only-of-type {\n",
       "        vertical-align: middle;\n",
       "    }\n",
       "\n",
       "    .dataframe tbody tr th {\n",
       "        vertical-align: top;\n",
       "    }\n",
       "\n",
       "    .dataframe thead th {\n",
       "        text-align: right;\n",
       "    }\n",
       "</style>\n",
       "<table border=\"1\" class=\"dataframe\">\n",
       "  <thead>\n",
       "    <tr style=\"text-align: right;\">\n",
       "      <th></th>\n",
       "      <th>ASINMasterId</th>\n",
       "      <th>ASIN</th>\n",
       "      <th>ASIN_Name</th>\n",
       "      <th>StartDate</th>\n",
       "      <th>EndDate</th>\n",
       "    </tr>\n",
       "  </thead>\n",
       "  <tbody>\n",
       "    <tr>\n",
       "      <th>0</th>\n",
       "      <td>-1</td>\n",
       "      <td>&lt;UnAssigned&gt;</td>\n",
       "      <td>&lt;UnAssigned&gt;</td>\n",
       "      <td>2019-04-22 19:07:22.920</td>\n",
       "      <td>9999-12-31 23:59:59.990000</td>\n",
       "    </tr>\n",
       "    <tr>\n",
       "      <th>1</th>\n",
       "      <td>1</td>\n",
       "      <td>B0005YXZMQ</td>\n",
       "      <td>Aunt Jemima Pancake Syrup Lite, 24 oz</td>\n",
       "      <td>2019-04-22 19:07:22.920</td>\n",
       "      <td>9999-12-31 23:59:59.990000</td>\n",
       "    </tr>\n",
       "    <tr>\n",
       "      <th>2</th>\n",
       "      <td>2</td>\n",
       "      <td>B00061ES1K</td>\n",
       "      <td>Starbucks Doubleshot Espresso and Cream, 6.5 oz</td>\n",
       "      <td>2019-04-22 19:07:22.920</td>\n",
       "      <td>9999-12-31 23:59:59.990000</td>\n",
       "    </tr>\n",
       "    <tr>\n",
       "      <th>3</th>\n",
       "      <td>3</td>\n",
       "      <td>B00099E93Q</td>\n",
       "      <td>Quaker Granola Oats, Honey, Almonds &amp; Raisins,...</td>\n",
       "      <td>2019-04-22 19:07:22.920</td>\n",
       "      <td>9999-12-31 23:59:59.990000</td>\n",
       "    </tr>\n",
       "    <tr>\n",
       "      <th>4</th>\n",
       "      <td>4</td>\n",
       "      <td>B00099XLXU</td>\n",
       "      <td>Quaker Oats Quick 1-Minute Oatmeal, Breakfast ...</td>\n",
       "      <td>2019-04-22 19:07:22.920</td>\n",
       "      <td>9999-12-31 23:59:59.990000</td>\n",
       "    </tr>\n",
       "    <tr>\n",
       "      <th>5</th>\n",
       "      <td>5</td>\n",
       "      <td>B00099XM0M</td>\n",
       "      <td>Quaker Chewy Dipps Granola Bars, Chocolate Chi...</td>\n",
       "      <td>2019-04-22 19:07:22.920</td>\n",
       "      <td>9999-12-31 23:59:59.990000</td>\n",
       "    </tr>\n",
       "    <tr>\n",
       "      <th>6</th>\n",
       "      <td>6</td>\n",
       "      <td>B000PL0YEG</td>\n",
       "      <td>Pasta Roni Fettuccine Alfredo, 4.7 oz</td>\n",
       "      <td>2019-04-22 19:07:22.920</td>\n",
       "      <td>9999-12-31 23:59:59.990000</td>\n",
       "    </tr>\n",
       "    <tr>\n",
       "      <th>7</th>\n",
       "      <td>7</td>\n",
       "      <td>B000PL0YG4</td>\n",
       "      <td>Pasta Roni Angel Hair Pasta with Herbs, 4.8 oz</td>\n",
       "      <td>2019-04-22 19:07:22.920</td>\n",
       "      <td>9999-12-31 23:59:59.990000</td>\n",
       "    </tr>\n",
       "    <tr>\n",
       "      <th>8</th>\n",
       "      <td>8</td>\n",
       "      <td>B000PL2VTW</td>\n",
       "      <td>Rice A Roni, Herb &amp; Butter Flavor, Rice Mix, 7...</td>\n",
       "      <td>2019-04-22 19:07:22.920</td>\n",
       "      <td>9999-12-31 23:59:59.990000</td>\n",
       "    </tr>\n",
       "    <tr>\n",
       "      <th>9</th>\n",
       "      <td>9</td>\n",
       "      <td>B000PL2VW4</td>\n",
       "      <td>Pasta Roni, Parmesan Cheese Flavor, 5.1 Oz</td>\n",
       "      <td>2019-04-22 19:07:22.920</td>\n",
       "      <td>9999-12-31 23:59:59.990000</td>\n",
       "    </tr>\n",
       "  </tbody>\n",
       "</table>\n",
       "</div>"
      ],
      "text/plain": [
       "   ASINMasterId          ASIN  \\\n",
       "0            -1  <UnAssigned>   \n",
       "1             1    B0005YXZMQ   \n",
       "2             2    B00061ES1K   \n",
       "3             3    B00099E93Q   \n",
       "4             4    B00099XLXU   \n",
       "5             5    B00099XM0M   \n",
       "6             6    B000PL0YEG   \n",
       "7             7    B000PL0YG4   \n",
       "8             8    B000PL2VTW   \n",
       "9             9    B000PL2VW4   \n",
       "\n",
       "                                           ASIN_Name               StartDate  \\\n",
       "0                                       <UnAssigned> 2019-04-22 19:07:22.920   \n",
       "1              Aunt Jemima Pancake Syrup Lite, 24 oz 2019-04-22 19:07:22.920   \n",
       "2    Starbucks Doubleshot Espresso and Cream, 6.5 oz 2019-04-22 19:07:22.920   \n",
       "3  Quaker Granola Oats, Honey, Almonds & Raisins,... 2019-04-22 19:07:22.920   \n",
       "4  Quaker Oats Quick 1-Minute Oatmeal, Breakfast ... 2019-04-22 19:07:22.920   \n",
       "5  Quaker Chewy Dipps Granola Bars, Chocolate Chi... 2019-04-22 19:07:22.920   \n",
       "6              Pasta Roni Fettuccine Alfredo, 4.7 oz 2019-04-22 19:07:22.920   \n",
       "7     Pasta Roni Angel Hair Pasta with Herbs, 4.8 oz 2019-04-22 19:07:22.920   \n",
       "8  Rice A Roni, Herb & Butter Flavor, Rice Mix, 7... 2019-04-22 19:07:22.920   \n",
       "9         Pasta Roni, Parmesan Cheese Flavor, 5.1 Oz 2019-04-22 19:07:22.920   \n",
       "\n",
       "                      EndDate  \n",
       "0  9999-12-31 23:59:59.990000  \n",
       "1  9999-12-31 23:59:59.990000  \n",
       "2  9999-12-31 23:59:59.990000  \n",
       "3  9999-12-31 23:59:59.990000  \n",
       "4  9999-12-31 23:59:59.990000  \n",
       "5  9999-12-31 23:59:59.990000  \n",
       "6  9999-12-31 23:59:59.990000  \n",
       "7  9999-12-31 23:59:59.990000  \n",
       "8  9999-12-31 23:59:59.990000  \n",
       "9  9999-12-31 23:59:59.990000  "
      ]
     },
     "execution_count": 22,
     "metadata": {},
     "output_type": "execute_result"
    }
   ],
   "source": [
    "df2=pd.read_sql(\"select top 10 * from MDM_ASIN\",session.bind)\n",
    "df2"
   ]
  },
  {
   "cell_type": "code",
   "execution_count": 40,
   "metadata": {},
   "outputs": [
    {
     "ename": "NameError",
     "evalue": "name 'ASIN_Name' is not defined",
     "output_type": "error",
     "traceback": [
      "\u001b[1;31m---------------------------------------------------------------------------\u001b[0m",
      "\u001b[1;31mNameError\u001b[0m                                 Traceback (most recent call last)",
      "\u001b[1;32m<ipython-input-40-4ddcd4ccbc2b>\u001b[0m in \u001b[0;36m<module>\u001b[1;34m\u001b[0m\n\u001b[0;32m      1\u001b[0m \u001b[1;31m# session.execute(\"update MDM_ASIN set ASIN_Name='Rice a Roni' where ASINMasterId=10\")\u001b[0m\u001b[1;33m\u001b[0m\u001b[1;33m\u001b[0m\u001b[1;33m\u001b[0m\u001b[0m\n\u001b[1;32m----> 2\u001b[1;33m \u001b[0msession\u001b[0m\u001b[1;33m.\u001b[0m\u001b[0mexecute\u001b[0m\u001b[1;33m(\u001b[0m\u001b[1;34m\"update MDM_ASIN set ASIN_Name=\"\u001b[0m\u001b[1;33m+\u001b[0m\u001b[0mASIN_Name\u001b[0m\u001b[1;33m+\u001b[0m \u001b[1;34m\"where ASINMasterId=\"\u001b[0m\u001b[1;33m+\u001b[0m\u001b[0mASINMasterId\u001b[0m\u001b[1;33m+\u001b[0m\u001b[1;34m\"\"\u001b[0m\u001b[1;33m)\u001b[0m\u001b[1;33m\u001b[0m\u001b[1;33m\u001b[0m\u001b[0m\n\u001b[0m\u001b[0;32m      3\u001b[0m \u001b[0msession\u001b[0m\u001b[1;33m.\u001b[0m\u001b[0mcommit\u001b[0m\u001b[1;33m(\u001b[0m\u001b[1;33m)\u001b[0m\u001b[1;33m\u001b[0m\u001b[1;33m\u001b[0m\u001b[0m\n\u001b[0;32m      4\u001b[0m \u001b[0msession\u001b[0m\u001b[1;33m.\u001b[0m\u001b[0mclose\u001b[0m\u001b[1;33m(\u001b[0m\u001b[1;33m)\u001b[0m\u001b[1;33m\u001b[0m\u001b[1;33m\u001b[0m\u001b[0m\n",
      "\u001b[1;31mNameError\u001b[0m: name 'ASIN_Name' is not defined"
     ]
    }
   ],
   "source": [
    "# session.execute(\"update MDM_ASIN set ASIN_Name='Rice a Roni' where ASINMasterId=10\")\n",
    "session.execute(f\"update MDM_ASIN set ASIN_Name={ASIN_Name} where ASINMasterId={ASINMasterId}\")\n",
    "session.commit()\n",
    "session.close()"
   ]
  },
  {
   "cell_type": "code",
   "execution_count": 36,
   "metadata": {},
   "outputs": [],
   "source": [
    "session.rollback()"
   ]
  },
  {
   "cell_type": "code",
   "execution_count": 38,
   "metadata": {},
   "outputs": [],
   "source": [
    "session.close()"
   ]
  },
  {
   "cell_type": "code",
   "execution_count": null,
   "metadata": {},
   "outputs": [],
   "source": []
  }
 ],
 "metadata": {
  "kernelspec": {
   "display_name": "Python 3",
   "language": "python",
   "name": "python3"
  },
  "language_info": {
   "codemirror_mode": {
    "name": "ipython",
    "version": 3
   },
   "file_extension": ".py",
   "mimetype": "text/x-python",
   "name": "python",
   "nbconvert_exporter": "python",
   "pygments_lexer": "ipython3",
   "version": "3.7.3"
  }
 },
 "nbformat": 4,
 "nbformat_minor": 2
}
