{
 "cells": [
  {
   "cell_type": "code",
   "execution_count": 18,
   "metadata": {},
   "outputs": [],
   "source": [
    "from splinter import Browser\n",
    "from bs4 import BeautifulSoup\n",
    "import pymongo\n",
    "import requests\n",
    "import pandas as pd\n",
    "import time"
   ]
  },
  {
   "cell_type": "code",
   "execution_count": 6,
   "metadata": {},
   "outputs": [],
   "source": [
    "mars_tweet_url=\"https://twitter.com/marswxreport?lang=en\"\n",
    "#soup = BeautifulSoup(mars_tweet_url, 'html.parser')"
   ]
  },
  {
   "cell_type": "code",
   "execution_count": 7,
   "metadata": {},
   "outputs": [],
   "source": [
    "executable_path = {'executable_path': 'chromedriver.exe'}\n",
    "browser = Browser('chrome', **executable_path, headless=False)"
   ]
  },
  {
   "cell_type": "code",
   "execution_count": 19,
   "metadata": {},
   "outputs": [
    {
     "data": {
      "text/plain": [
       "{'facts': {'Description': {0: 'Equatorial Diameter:',\n",
       "   1: 'Polar Diameter:',\n",
       "   2: 'Mass:',\n",
       "   3: 'Moons:',\n",
       "   4: 'Orbit Distance:',\n",
       "   5: 'Orbit Period:',\n",
       "   6: 'Surface Temperature:',\n",
       "   7: 'First Record:',\n",
       "   8: 'Recorded By:'},\n",
       "  'Value': {0: '6,792 km',\n",
       "   1: '6,752 km',\n",
       "   2: '6.42 x 10^23 kg (10.7% Earth)',\n",
       "   3: '2 (Phobos & Deimos)',\n",
       "   4: '227,943,824 km (1.52 AU)',\n",
       "   5: '687 days (1.9 years)',\n",
       "   6: '-153 to 20 °C',\n",
       "   7: '2nd millennium BC',\n",
       "   8: 'Egyptian astronomers'}},\n",
       " 'temperature': 'InSight sol 129 (2019-04-07) low -97.7ºC (-143.9ºF) high -16.7ºC (1.9ºF)\\nwinds from the SW at 4.1 m/s (9.1 mph) gusting to 11.9 m/s (26.7 mph)\\npressure at 7.30 hPapic.twitter.com/UbKB6hFeoI',\n",
       " 'hemisphere_data': [{'title': 'Cerberus Hemisphere Enhanced',\n",
       "   'img_url': 'http://astropedia.astrogeology.usgs.gov/download/Mars/Viking/cerberus_enhanced.tif/full.jpg'},\n",
       "  {'title': 'Schiaparelli Hemisphere Enhanced',\n",
       "   'img_url': 'http://astropedia.astrogeology.usgs.gov/download/Mars/Viking/schiaparelli_enhanced.tif/full.jpg'},\n",
       "  {'title': 'Syrtis Major Hemisphere Enhanced',\n",
       "   'img_url': 'http://astropedia.astrogeology.usgs.gov/download/Mars/Viking/syrtis_major_enhanced.tif/full.jpg'},\n",
       "  {'title': 'Valles Marineris Hemisphere Enhanced',\n",
       "   'img_url': 'http://astropedia.astrogeology.usgs.gov/download/Mars/Viking/valles_marineris_enhanced.tif/full.jpg'}]}"
      ]
     },
     "execution_count": 19,
     "metadata": {},
     "output_type": "execute_result"
    }
   ],
   "source": [
    "\n",
    "def init_browser():\n",
    "    chrome_location = \"chromedriver.exe\"    \n",
    "    executable_path = {\"executable_path\":chrome_location}\n",
    "    \n",
    "    return Browser(\"chrome\", **executable_path, headless=False)\n",
    "\n",
    "def get_soup_object(url):\n",
    "    browser = init_browser()\n",
    "    browser.visit(url)\n",
    "    soup = BeautifulSoup(browser.html,\"html.parser\")\n",
    "    return soup\n",
    "\n",
    "def get_MARS_temperature():\n",
    "    twitter_report_url = \"https://twitter.com/marswxreport?lang=en\"\n",
    "    temp_soup = get_soup_object(twitter_report_url)\n",
    "    return temp_soup.find(\"ol\",{\"id\":\"stream-items-id\"}).find(\"li\").find(\"p\").text\n",
    "\n",
    "\n",
    "\n",
    "def get_MARS_facts():\n",
    "    df = pd.read_html(\"https://space-facts.com/mars/\")[0]\n",
    "    df = df.rename(columns={0:\"Description\",1:\"Value\"})\n",
    "    return df.to_dict()\n",
    "\n",
    "\n",
    "\n",
    "def get_MARS_hemisphere_data():\n",
    "    browser = init_browser()\n",
    "    hemispheres_url = \"https://astrogeology.usgs.gov/search/results?q=hemisphere+enhanced&k1=target&v1=Mars\"\n",
    "    browser.visit(hemispheres_url)\n",
    "    hms_soup = BeautifulSoup(browser.html,\"html.parser\")\n",
    "    items = hms_soup.find(\"div\",{\"id\":\"product-section\"}).find_all(\"div\",{\"class\":\"item\"})\n",
    "\n",
    "    hemisphere_data = []\n",
    "\n",
    "    for item in items:\n",
    "        img_main_url = \"https://astrogeology.usgs.gov\"+item.find(\"a\")[\"href\"]\n",
    "        img_title = item.find(\"div\",{\"class\":\"description\"}).find(\"a\").find(\"h3\").text\n",
    "        browser.visit(img_main_url)\n",
    "        time.sleep(1)\n",
    "        img_soup = BeautifulSoup(browser.html,\"html.parser\")\n",
    "        download_item = img_soup.find(\"div\",{\"class\":\"downloads\"})\n",
    "        hemisphere_item = {\n",
    "            \"title\":img_title,\n",
    "            \"img_url\": download_item.find(\"li\").find(\"a\")[\"href\"]\n",
    "        }\n",
    "        hemisphere_data.append(hemisphere_item)\n",
    "        \n",
    "    return hemisphere_data\n",
    "\n",
    "\n",
    "\n",
    "def scrape():    \n",
    "    mars_facts = get_MARS_facts()\n",
    "    mars_temp = get_MARS_temperature()\n",
    "    mars_hm_data = get_MARS_hemisphere_data()\n",
    "    return {        \n",
    "        \"facts\":mars_facts,\n",
    "        \"temperature\":mars_temp,\n",
    "        \"hemisphere_data\":mars_hm_data\n",
    "    }\n",
    "\n",
    "scrape()"
   ]
  },
  {
   "cell_type": "code",
   "execution_count": null,
   "metadata": {},
   "outputs": [],
   "source": []
  }
 ],
 "metadata": {
  "kernelspec": {
   "display_name": "Python 3",
   "language": "python",
   "name": "python3"
  },
  "language_info": {
   "codemirror_mode": {
    "name": "ipython",
    "version": 3
   },
   "file_extension": ".py",
   "mimetype": "text/x-python",
   "name": "python",
   "nbconvert_exporter": "python",
   "pygments_lexer": "ipython3",
   "version": "3.7.3"
  }
 },
 "nbformat": 4,
 "nbformat_minor": 2
}
