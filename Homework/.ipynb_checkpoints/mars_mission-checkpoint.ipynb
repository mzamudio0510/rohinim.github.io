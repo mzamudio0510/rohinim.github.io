{
 "cells": [
  {
   "cell_type": "code",
   "execution_count": 2,
   "metadata": {},
   "outputs": [],
   "source": [
    "from bs4 import BeautifulSoup\n",
    "import requests\n",
    "import pandas as pd\n",
    "from splinter import Browser\n",
    "from splinter.exceptions import ElementDoesNotExist"
   ]
  },
  {
   "cell_type": "code",
   "execution_count": 4,
   "metadata": {},
   "outputs": [
    {
     "name": "stderr",
     "output_type": "stream",
     "text": [
      "C:\\Users\\80175484\\AppData\\Local\\Continuum\\anaconda3\\lib\\site-packages\\bs4\\__init__.py:336: UserWarning: \"https://twitter.com/marswxreport?lang=en\" looks like a URL. Beautiful Soup is not an HTTP client. You should probably use an HTTP client like requests to get the document behind the URL, and feed that document to Beautiful Soup.\n",
      "  ' that document to Beautiful Soup.' % decoded_markup\n"
     ]
    }
   ],
   "source": [
    "mars_tweet_url=\"https://twitter.com/marswxreport?lang=en\"\n",
    "#soup = BeautifulSoup(mars_tweet_url, 'html.parser')"
   ]
  },
  {
   "cell_type": "code",
   "execution_count": 8,
   "metadata": {},
   "outputs": [
    {
     "data": {
      "text/plain": [
       "[                                      Country      Code  \\\n",
       " 0                               United States     40404   \n",
       " 1                                      Canada     21212   \n",
       " 2                              United Kingdom     86444   \n",
       " 3                                      Brazil     40404   \n",
       " 4                                       Haiti     40404   \n",
       " 5                                     Ireland     51210   \n",
       " 6                                       India     53000   \n",
       " 7                                   Indonesia     89887   \n",
       " 8                                       Italy   4880804   \n",
       " 9                                  3424486444  Vodafone   \n",
       " 10  » See SMS short codes for other countries       NaN   \n",
       " \n",
       "                           For customers of  \n",
       " 0                                    (any)  \n",
       " 1                                    (any)  \n",
       " 2                  Vodafone, Orange, 3, O2  \n",
       " 3                              Nextel, TIM  \n",
       " 4                           Digicel, Voila  \n",
       " 5                             Vodafone, O2  \n",
       " 6        Bharti Airtel, Videocon, Reliance  \n",
       " 7   AXIS, 3, Telkomsel, Indosat, XL Axiata  \n",
       " 8                                     Wind  \n",
       " 9                                      NaN  \n",
       " 10                                     NaN  ]"
      ]
     },
     "execution_count": 8,
     "metadata": {},
     "output_type": "execute_result"
    }
   ],
   "source": [
    "mars_tweet_df=pd.read_html(mars_tweet_url)\n",
    "mars_tweet_df"
   ]
  },
  {
   "cell_type": "code",
   "execution_count": null,
   "metadata": {},
   "outputs": [],
   "source": []
  }
 ],
 "metadata": {
  "kernelspec": {
   "display_name": "Python 3",
   "language": "python",
   "name": "python3"
  },
  "language_info": {
   "codemirror_mode": {
    "name": "ipython",
    "version": 3
   },
   "file_extension": ".py",
   "mimetype": "text/x-python",
   "name": "python",
   "nbconvert_exporter": "python",
   "pygments_lexer": "ipython3",
   "version": "3.7.1"
  }
 },
 "nbformat": 4,
 "nbformat_minor": 2
}
