{
 "cells": [
  {
   "cell_type": "code",
   "execution_count": 43,
   "metadata": {},
   "outputs": [],
   "source": [
    "import pandas as pd\n",
    "import re"
   ]
  },
  {
   "cell_type": "code",
   "execution_count": 2,
   "metadata": {},
   "outputs": [],
   "source": [
    "url='https://en.wikipedia.org/wiki/List_of_highest-grossing_animated_films'"
   ]
  },
  {
   "cell_type": "code",
   "execution_count": 3,
   "metadata": {},
   "outputs": [],
   "source": [
    "tables=pd.read_html(url)\n",
    "movies_df=tables[4]"
   ]
  },
  {
   "cell_type": "code",
   "execution_count": 4,
   "metadata": {},
   "outputs": [],
   "source": [
    "movies_df.to_csv('movies1.csv')"
   ]
  },
  {
   "cell_type": "code",
   "execution_count": 136,
   "metadata": {},
   "outputs": [],
   "source": [
    "movies_df['Worldwide gross'].head(10)\n",
    "\n",
    "movies_df = movies_df.dropna(subset=['Title'])\n",
    "movies_df.head()\n",
    "\n",
    "movies_df.drop(movies_df.loc[movies_df['Title']=='TBD'].index,inplace=True)\n",
    "movies_df=movies_df.reset_index(drop=True)\n",
    "movies_df.head()\n",
    "# #movies_df=movies_df.drop(['Ref(s)'],axis=1)\n",
    "movies_df['Distributor Rental']=''\n"
   ]
  },
  {
   "cell_type": "code",
   "execution_count": 163,
   "metadata": {},
   "outputs": [
    {
     "data": {
      "text/plain": [
       "0               [$418,200,000+, ($8,500,000)R]\n",
       "1                                [$3,200,000*]\n",
       "2                [$87,000,862*, ($3,500,000)R]\n",
       "3                                [$1,600,000*]\n",
       "4                [$267,447,150, ($3,449,353)R]\n",
       "5                                  [$799,000*]\n",
       "6                                [$3,355,000R]\n",
       "7                 [ES€5,595,283ES, (~$90,000)]\n",
       "8                                [$3,275,000R]\n",
       "9                                [$3,165,000R]\n",
       "10                               [$2,560,000R]\n",
       "11                               [$1,625,000R]\n",
       "12    [$263,591,415($20,000,000/$7,800,000)*R]\n",
       "13                               [$2,400,000*]\n",
       "14                [$145,000,000, ($7,000,000)]\n",
       "15              [$187,000,000, ($6,500,000)*R]\n",
       "16               [$51,600,000*, ($5,300,000)R]\n",
       "17                              [$215,880,212]\n",
       "18            [$22,182,353*R, ($13,050,777)*R]\n",
       "19       [$1,940,903*–2,438,233*($1,130,000)R]\n",
       "20                               [$2,764,684*]\n",
       "21                [$378,000,000($23,800,000)R]\n",
       "22              [SEK1,270,971SW, (~$245,000)H]\n",
       "23                              [$12,000,000*]\n",
       "24              [$191,000,000, ($26,462,000)R]\n",
       "25             [SEK1,202,319, SW, (~$253,000)]\n",
       "26                               [$90,000,000]\n",
       "27              [$32,056,467*, ($17,160,000)R]\n",
       "28         [SEK5,813,000SW, (~$2,675,205.50)H]\n",
       "29                          [$6,439,069NW, SW]\n",
       "                        ...                   \n",
       "44                               [$47,431,461]\n",
       "45              [$424,967,620, ($351,863,363)]\n",
       "46                              [$504,050,219]\n",
       "47               [$81,877,069, ($50,003,043)*]\n",
       "48              [$968,483,777, ($766,964,132)]\n",
       "49              [$373,554,033, ($361,958,736)]\n",
       "50                              [$325,338,851]\n",
       "51                              [$252,712,101]\n",
       "52                              [$363,258,859]\n",
       "53              [$497,366,869, ($485,015,179)]\n",
       "54                              [$349,822,765]\n",
       "55              [$577,425,734, ($525,373,250)]\n",
       "56                              [$383,257,136]\n",
       "57              [$940,335,536, ($867,893,978)]\n",
       "58                              [$919,838,758]\n",
       "59                              [$532,680,671]\n",
       "60                              [$660,940,780]\n",
       "61                              [$798,958,162]\n",
       "62                              [$631,744,560]\n",
       "63                              [$886,686,817]\n",
       "64                            [$1,066,969,703]\n",
       "65                              [$665,692,281]\n",
       "66                              [$877,244,782]\n",
       "67              [$1,290,000,000, ($1.287×109)]\n",
       "68                              [$657,818,612]\n",
       "69                            [$1,159,398,397]\n",
       "70                            [$1,028,570,889]\n",
       "71                            [$1,034,799,409]\n",
       "72                            [$1,242,805,359]\n",
       "73                              [$509,000,740]\n",
       "Name: Worldwide gross, Length: 74, dtype: object"
      ]
     },
     "execution_count": 163,
     "metadata": {},
     "output_type": "execute_result"
    }
   ],
   "source": [
    "\n",
    "movies_df['Worldwide gross'].str.split()\n",
    "#re.sub(\"\\D\", \"\",(movies_df['Worldwide gross'].str.split()))"
   ]
  },
  {
   "cell_type": "code",
   "execution_count": 145,
   "metadata": {},
   "outputs": [
    {
     "data": {
      "text/plain": [
       "'SEK1,202,319 SW (~$253,000)'"
      ]
     },
     "execution_count": 145,
     "metadata": {},
     "output_type": "execute_result"
    }
   ],
   "source": [
    "gross_list=movies_df['Worldwide gross']\n",
    "gross_list[25]"
   ]
  },
  {
   "cell_type": "code",
   "execution_count": 152,
   "metadata": {},
   "outputs": [
    {
     "name": "stdout",
     "output_type": "stream",
     "text": [
      "Data is SHIT!!\n",
      "Data is SHIT!!\n",
      "[426700000, 3200000, 90500862, 1600000, 270896503, 799000, 3355000, 5685283, 3275000, 3165000, 2560000, 1625000, 2400000, 152000000, 193500000, 56900000, 215880212, 35233130, 2764684, 1515971, 12000000, 217462000, 90000000, 49216467, 273333550, 19000000, 198000000, 30471420, 7775109, 6355109, 103356988, 14665733, 4606109, 7465109, 56934622, 84542002, 9815109, 84460846, 295699342, 47431461, 776830983, 504050219, 131880112, 735512769, 325338851, 252712101, 363258859, 982382048, 349822765, 383257136, 919838758, 532680671, 660940780, 798958162, 631744560, 886686817, 665692281, 877244782, 657818612, 509000740]\n"
     ]
    }
   ],
   "source": [
    "#movies_df.loc[df['Title']=='TBD'].index, inplace=True\n",
    "\n",
    "total_gross=[]\n",
    "rental_distribution=[] \n",
    "for g in gross_list:\n",
    "    g_i=g.split()\n",
    "        #print(g_i)\n",
    "    n0=re.sub(\"\\D\", \"\",g_i[0])\n",
    "    \n",
    "\n",
    "    if len(g_i)>1:\n",
    "        n1=re.sub(\"\\D\", \"\",g_i[1])\n",
    "    else:\n",
    "        n1=0\n",
    "    #print(f\"n0 {n0}......n1 {n1}\")\n",
    "    try:\n",
    "        sum=int(n1)+int(n0)\n",
    "        total_gross.append(sum)\n",
    "        #print(f\"Sum is {sum}\")\n",
    "    except:\n",
    "        print(\"Data is SHIT!!\")\n",
    "#print(total_gross)\n",
    "new_total_gross=[]\n",
    "for item in total_gross:\n",
    "    if item <= 1000000000:\n",
    "        new_total_gross.append(item)\n",
    "print(new_total_gross)    \n",
    "\n",
    "#re.findall('[\\$,]|[\\*]|[\\+]', gross_list[0])\n",
    "#movies_df[movies_df['Worldwide gross']][0].replace('[\\$,]', '', regex=True)\n"
   ]
  },
  {
   "cell_type": "code",
   "execution_count": 123,
   "metadata": {},
   "outputs": [
    {
     "data": {
      "text/plain": [
       "74"
      ]
     },
     "execution_count": 123,
     "metadata": {},
     "output_type": "execute_result"
    }
   ],
   "source": [
    "\n",
    "len(gross_list)"
   ]
  },
  {
   "cell_type": "code",
   "execution_count": 102,
   "metadata": {},
   "outputs": [],
   "source": [
    "#gross_list.str.find('R')"
   ]
  },
  {
   "cell_type": "code",
   "execution_count": 5,
   "metadata": {},
   "outputs": [],
   "source": [
    "movies2_df=tables[6]\n",
    "movies2_df.to_csv('movies2.csv')"
   ]
  },
  {
   "cell_type": "code",
   "execution_count": 19,
   "metadata": {},
   "outputs": [],
   "source": [
    "movies2_df=movies2_df.drop([0])"
   ]
  },
  {
   "cell_type": "code",
   "execution_count": 23,
   "metadata": {},
   "outputs": [
    {
     "data": {
      "text/plain": [
       "['Rank',\n",
       " 'Series',\n",
       " 'Total worldwide box office',\n",
       " 'No. of films',\n",
       " 'Average of films',\n",
       " 'Highest-grossing film']"
      ]
     },
     "execution_count": 23,
     "metadata": {},
     "output_type": "execute_result"
    }
   ],
   "source": [
    "col_list=list(movies2_df.iloc[0])\n",
    "col_list"
   ]
  },
  {
   "cell_type": "code",
   "execution_count": 30,
   "metadata": {},
   "outputs": [],
   "source": [
    "movies2_df.columns=col_list\n",
    "movies2_df=movies2_df.drop([1])"
   ]
  },
  {
   "cell_type": "code",
   "execution_count": null,
   "metadata": {},
   "outputs": [],
   "source": [
    "movies2_df['Rank'].values"
   ]
  },
  {
   "cell_type": "code",
   "execution_count": 65,
   "metadata": {},
   "outputs": [
    {
     "ename": "AttributeError",
     "evalue": "'str' object has no attribute 'size'",
     "output_type": "error",
     "traceback": [
      "\u001b[1;31m---------------------------------------------------------------------------\u001b[0m",
      "\u001b[1;31mAttributeError\u001b[0m                            Traceback (most recent call last)",
      "\u001b[1;32m<ipython-input-65-e549d5728ff2>\u001b[0m in \u001b[0;36m<module>\u001b[1;34m\u001b[0m\n\u001b[0;32m      2\u001b[0m \u001b[0mnew_rank_list\u001b[0m\u001b[1;33m=\u001b[0m\u001b[1;33m[\u001b[0m\u001b[1;33m]\u001b[0m\u001b[1;33m\u001b[0m\u001b[1;33m\u001b[0m\u001b[0m\n\u001b[0;32m      3\u001b[0m \u001b[1;32mfor\u001b[0m \u001b[0mrank\u001b[0m \u001b[1;32min\u001b[0m \u001b[0mrank_list\u001b[0m\u001b[1;33m:\u001b[0m\u001b[1;33m\u001b[0m\u001b[1;33m\u001b[0m\u001b[0m\n\u001b[1;32m----> 4\u001b[1;33m     \u001b[1;32mif\u001b[0m \u001b[0mlen\u001b[0m\u001b[1;33m(\u001b[0m\u001b[0mrank\u001b[0m\u001b[1;33m)\u001b[0m\u001b[1;33m<\u001b[0m\u001b[1;36m2\u001b[0m \u001b[1;32mor\u001b[0m \u001b[0mrank\u001b[0m\u001b[1;33m.\u001b[0m\u001b[0msize\u001b[0m\u001b[1;33m<\u001b[0m\u001b[1;36m2\u001b[0m\u001b[1;33m:\u001b[0m\u001b[1;33m\u001b[0m\u001b[1;33m\u001b[0m\u001b[0m\n\u001b[0m\u001b[0;32m      5\u001b[0m         \u001b[0mnew_rank_list\u001b[0m\u001b[1;33m.\u001b[0m\u001b[0mappend\u001b[0m\u001b[1;33m(\u001b[0m\u001b[0mrank\u001b[0m\u001b[1;33m)\u001b[0m\u001b[1;33m\u001b[0m\u001b[1;33m\u001b[0m\u001b[0m\n\u001b[0;32m      6\u001b[0m \u001b[1;33m\u001b[0m\u001b[0m\n",
      "\u001b[1;31mAttributeError\u001b[0m: 'str' object has no attribute 'size'"
     ]
    }
   ],
   "source": [
    "rank_list=movies2_df['Rank'].values\n",
    "new_rank_list=[]\n",
    "for rank in rank_list:\n",
    "    if len(rank)<2 or rank.size<2:\n",
    "        new_rank_list.append(rank)\n",
    "        "
   ]
  },
  {
   "cell_type": "code",
   "execution_count": 62,
   "metadata": {},
   "outputs": [
    {
     "data": {
      "text/plain": [
       "254"
      ]
     },
     "execution_count": 62,
     "metadata": {},
     "output_type": "execute_result"
    }
   ],
   "source": [
    "rank_list.size\n"
   ]
  },
  {
   "cell_type": "code",
   "execution_count": null,
   "metadata": {},
   "outputs": [],
   "source": []
  }
 ],
 "metadata": {
  "kernelspec": {
   "display_name": "Python 3",
   "language": "python",
   "name": "python3"
  },
  "language_info": {
   "codemirror_mode": {
    "name": "ipython",
    "version": 3
   },
   "file_extension": ".py",
   "mimetype": "text/x-python",
   "name": "python",
   "nbconvert_exporter": "python",
   "pygments_lexer": "ipython3",
   "version": "3.7.3"
  }
 },
 "nbformat": 4,
 "nbformat_minor": 2
}
