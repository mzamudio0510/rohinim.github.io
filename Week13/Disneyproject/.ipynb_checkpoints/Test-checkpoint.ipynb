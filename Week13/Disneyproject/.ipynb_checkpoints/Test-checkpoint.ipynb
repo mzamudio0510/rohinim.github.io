{
 "cells": [
  {
   "cell_type": "code",
   "execution_count": 2,
   "metadata": {},
   "outputs": [],
   "source": [
    "import pandas as pd"
   ]
  },
  {
   "cell_type": "code",
   "execution_count": 3,
   "metadata": {},
   "outputs": [],
   "source": [
    "url='https://en.wikipedia.org/wiki/List_of_highest-grossing_animated_films'"
   ]
  },
  {
   "cell_type": "code",
   "execution_count": 4,
   "metadata": {},
   "outputs": [],
   "source": [
    "tables=pd.read_html(url)\n",
    "movies_df=tables[4]"
   ]
  },
  {
   "cell_type": "code",
   "execution_count": 5,
   "metadata": {},
   "outputs": [],
   "source": [
    "movies_df.to_csv('movies1.csv')"
   ]
  },
  {
   "cell_type": "code",
   "execution_count": 6,
   "metadata": {},
   "outputs": [],
   "source": [
    "movies2_df=tables[6]\n",
    "movies2_df.to_csv('movies2.csv')"
   ]
  },
  {
   "cell_type": "code",
   "execution_count": 19,
   "metadata": {},
   "outputs": [
    {
     "data": {
      "text/plain": [
       "array([['1 Despicable Me $3,708,073,676 4 $927,018,419 Minions ($1,159,398,397) Main series $2,548,675,279 3 $849,558,426 Despicable Me 3 ($1,034,799,409) 1 Despicable Me 3 (2017) $1,034,799,409 2 Despicable Me 2 (2013) $970,761,885 3 Despicable Me (2010) $543,113,985 Minions (2015) $1,159,398,397',\n",
       "        '1 Despicable Me $3,708,073,676 4 $927,018,419 Minions ($1,159,398,397) Main series $2,548,675,279 3 $849,558,426 Despicable Me 3 ($1,034,799,409) 1 Despicable Me 3 (2017) $1,034,799,409 2 Despicable Me 2 (2013) $970,761,885 3 Despicable Me (2010) $543,113,985 Minions (2015) $1,159,398,397',\n",
       "        '1 Despicable Me $3,708,073,676 4 $927,018,419 Minions ($1,159,398,397) Main series $2,548,675,279 3 $849,558,426 Despicable Me 3 ($1,034,799,409) 1 Despicable Me 3 (2017) $1,034,799,409 2 Despicable Me 2 (2013) $970,761,885 3 Despicable Me (2010) $543,113,985 Minions (2015) $1,159,398,397',\n",
       "        '1 Despicable Me $3,708,073,676 4 $927,018,419 Minions ($1,159,398,397) Main series $2,548,675,279 3 $849,558,426 Despicable Me 3 ($1,034,799,409) 1 Despicable Me 3 (2017) $1,034,799,409 2 Despicable Me 2 (2013) $970,761,885 3 Despicable Me (2010) $543,113,985 Minions (2015) $1,159,398,397',\n",
       "        '1 Despicable Me $3,708,073,676 4 $927,018,419 Minions ($1,159,398,397) Main series $2,548,675,279 3 $849,558,426 Despicable Me 3 ($1,034,799,409) 1 Despicable Me 3 (2017) $1,034,799,409 2 Despicable Me 2 (2013) $970,761,885 3 Despicable Me (2010) $543,113,985 Minions (2015) $1,159,398,397',\n",
       "        '1 Despicable Me $3,708,073,676 4 $927,018,419 Minions ($1,159,398,397) Main series $2,548,675,279 3 $849,558,426 Despicable Me 3 ($1,034,799,409) 1 Despicable Me 3 (2017) $1,034,799,409 2 Despicable Me 2 (2013) $970,761,885 3 Despicable Me (2010) $543,113,985 Minions (2015) $1,159,398,397'],\n",
       "       ['1', 'Despicable Me', '$3,708,073,676', '4', '$927,018,419',\n",
       "        'Minions ($1,159,398,397)'],\n",
       "       ['Main series $2,548,675,279 3 $849,558,426 Despicable Me 3 ($1,034,799,409) 1 Despicable Me 3 (2017) $1,034,799,409 2 Despicable Me 2 (2013) $970,761,885 3 Despicable Me (2010) $543,113,985',\n",
       "        'Main series $2,548,675,279 3 $849,558,426 Despicable Me 3 ($1,034,799,409) 1 Despicable Me 3 (2017) $1,034,799,409 2 Despicable Me 2 (2013) $970,761,885 3 Despicable Me (2010) $543,113,985',\n",
       "        'Main series $2,548,675,279 3 $849,558,426 Despicable Me 3 ($1,034,799,409) 1 Despicable Me 3 (2017) $1,034,799,409 2 Despicable Me 2 (2013) $970,761,885 3 Despicable Me (2010) $543,113,985',\n",
       "        'Main series $2,548,675,279 3 $849,558,426 Despicable Me 3 ($1,034,799,409) 1 Despicable Me 3 (2017) $1,034,799,409 2 Despicable Me 2 (2013) $970,761,885 3 Despicable Me (2010) $543,113,985',\n",
       "        'Main series $2,548,675,279 3 $849,558,426 Despicable Me 3 ($1,034,799,409) 1 Despicable Me 3 (2017) $1,034,799,409 2 Despicable Me 2 (2013) $970,761,885 3 Despicable Me (2010) $543,113,985',\n",
       "        'Main series $2,548,675,279 3 $849,558,426 Despicable Me 3 ($1,034,799,409) 1 Despicable Me 3 (2017) $1,034,799,409 2 Despicable Me 2 (2013) $970,761,885 3 Despicable Me (2010) $543,113,985']],\n",
       "      dtype=object)"
      ]
     },
     "execution_count": 19,
     "metadata": {},
     "output_type": "execute_result"
    }
   ],
   "source": [
    "movies2_df.iloc[2:5,:].values"
   ]
  },
  {
   "cell_type": "code",
   "execution_count": null,
   "metadata": {},
   "outputs": [],
   "source": []
  }
 ],
 "metadata": {
  "kernelspec": {
   "display_name": "Python 3",
   "language": "python",
   "name": "python3"
  },
  "language_info": {
   "codemirror_mode": {
    "name": "ipython",
    "version": 3
   },
   "file_extension": ".py",
   "mimetype": "text/x-python",
   "name": "python",
   "nbconvert_exporter": "python",
   "pygments_lexer": "ipython3",
   "version": "3.7.3"
  }
 },
 "nbformat": 4,
 "nbformat_minor": 2
}
